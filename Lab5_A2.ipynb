{
  "nbformat": 4,
  "nbformat_minor": 0,
  "metadata": {
    "colab": {
      "provenance": []
    },
    "kernelspec": {
      "name": "python3",
      "display_name": "Python 3"
    },
    "language_info": {
      "name": "python"
    }
  },
  "cells": [
    {
      "cell_type": "code",
      "execution_count": 1,
      "metadata": {
        "colab": {
          "base_uri": "https://localhost:8080/"
        },
        "id": "EZhCtL81vf1X",
        "outputId": "a10fbaab-980f-44d2-8807-ba9decbfcaae"
      },
      "outputs": [
        {
          "output_type": "stream",
          "name": "stdout",
          "text": [
            "Train Set Metrics:\n",
            "Mean Squared Error (MSE): 1.2218911268510803e-35\n",
            "Root Mean Squared Error (RMSE): 3.495555931251966e-18\n",
            "Mean Absolute Percentage Error (MAPE): 0.0002433346388138719\n",
            "R^2 Score: 1.0\n",
            "\n",
            "Test Set Metrics:\n",
            "Mean Squared Error (MSE): 2.020652679733334e-06\n",
            "Root Mean Squared Error (RMSE): 0.0014214966337397124\n",
            "Mean Absolute Percentage Error (MAPE): 12695989952.006954\n",
            "R^2 Score: 0.9991666802718867\n"
          ]
        }
      ],
      "source": [
        "import pandas as pd\n",
        "from sklearn.feature_extraction.text import TfidfVectorizer\n",
        "from sklearn.linear_model import LinearRegression\n",
        "from sklearn.metrics import mean_squared_error, mean_absolute_percentage_error, r2_score\n",
        "from sklearn.model_selection import train_test_split\n",
        "import numpy as np\n",
        "\n",
        "# Function to load the data from Excel\n",
        "def load_data(file_path):\n",
        "    df = pd.read_excel(file_path)\n",
        "\n",
        "    # Extract the 'ENGLISH' and 'HINDI' columns\n",
        "    english_texts = df['ENGLISH'].astype(str).values  # Convert all values to strings\n",
        "    hindi_texts = df['HINDI'].astype(str).values  # Convert all values to strings\n",
        "\n",
        "    return english_texts, hindi_texts\n",
        "\n",
        "# Function to convert text data to numerical features using TF-IDF\n",
        "def vectorize_text(english_texts, hindi_texts):\n",
        "    vectorizer = TfidfVectorizer()\n",
        "\n",
        "    # Vectorize the English and Hindi texts\n",
        "    x = vectorizer.fit_transform(english_texts).toarray()  # Convert English text to TF-IDF feature vectors\n",
        "    y = vectorizer.transform(hindi_texts).toarray()  # Convert Hindi text to TF-IDF feature vectors\n",
        "\n",
        "    return x, y\n",
        "\n",
        "# Function to train the Linear Regression model\n",
        "def train_linear_regression(x_train, y_train):\n",
        "    reg = LinearRegression()\n",
        "    reg.fit(x_train, y_train)\n",
        "    return reg\n",
        "\n",
        "# Function to evaluate the model\n",
        "def evaluate_model(y_true, y_pred):\n",
        "    mse = mean_squared_error(y_true, y_pred)\n",
        "    rmse = np.sqrt(mse)\n",
        "    mape = mean_absolute_percentage_error(y_true, y_pred)\n",
        "    r2 = r2_score(y_true, y_pred)\n",
        "    return mse, rmse, mape, r2\n",
        "\n",
        "# Main function to execute the code\n",
        "def main():\n",
        "    # Load the data from 'Book1.xlsx'\n",
        "    file_path = 'Book1.xlsx'\n",
        "    english_texts, hindi_texts = load_data(file_path)\n",
        "\n",
        "    # Convert text to numerical features using TF-IDF\n",
        "    x, y = vectorize_text(english_texts, hindi_texts)\n",
        "\n",
        "    # Split the data into training and test sets\n",
        "    x_train, x_test, y_train, y_test = train_test_split(x, y, test_size=0.2, random_state=42)\n",
        "\n",
        "    # Train the model\n",
        "    reg = train_linear_regression(x_train, y_train)\n",
        "\n",
        "    # Predict the target values for both train and test sets\n",
        "    y_train_pred = reg.predict(x_train)\n",
        "    y_test_pred = reg.predict(x_test)\n",
        "\n",
        "    # Evaluate the model on both train and test sets\n",
        "    mse_train, rmse_train, mape_train, r2_train = evaluate_model(y_train, y_train_pred)\n",
        "    mse_test, rmse_test, mape_test, r2_test = evaluate_model(y_test, y_test_pred)\n",
        "\n",
        "    # Print results\n",
        "    print(\"Train Set Metrics:\")\n",
        "    print(f\"Mean Squared Error (MSE): {mse_train}\")\n",
        "    print(f\"Root Mean Squared Error (RMSE): {rmse_train}\")\n",
        "    print(f\"Mean Absolute Percentage Error (MAPE): {mape_train}\")\n",
        "    print(f\"R^2 Score: {r2_train}\")\n",
        "\n",
        "    print(\"\\nTest Set Metrics:\")\n",
        "    print(f\"Mean Squared Error (MSE): {mse_test}\")\n",
        "    print(f\"Root Mean Squared Error (RMSE): {rmse_test}\")\n",
        "    print(f\"Mean Absolute Percentage Error (MAPE): {mape_test}\")\n",
        "    print(f\"R^2 Score: {r2_test}\")\n",
        "\n",
        "# Call the main function\n",
        "if __name__ == \"__main__\":\n",
        "    main()\n"
      ]
    }
  ]
}