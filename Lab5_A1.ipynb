{
  "nbformat": 4,
  "nbformat_minor": 0,
  "metadata": {
    "colab": {
      "provenance": []
    },
    "kernelspec": {
      "name": "python3",
      "display_name": "Python 3"
    },
    "language_info": {
      "name": "python"
    }
  },
  "cells": [
    {
      "cell_type": "code",
      "source": [
        "import pandas as pd\n",
        "from sklearn.feature_extraction.text import TfidfVectorizer\n",
        "from sklearn.linear_model import LinearRegression\n",
        "\n",
        "# Function to load the data from Excel\n",
        "def load_data(file_path):\n",
        "    df = pd.read_excel(file_path)\n",
        "\n",
        "    # Extract the 'ENGLISH' and 'HINDI' columns\n",
        "    english_texts = df['ENGLISH'].astype(str).values  # Convert all values to strings\n",
        "    hindi_texts = df['HINDI'].astype(str).values  # Convert all values to strings\n",
        "\n",
        "    return english_texts, hindi_texts\n",
        "\n",
        "# Function to convert text data to numerical features using TF-IDF\n",
        "def vectorize_text(english_texts, hindi_texts):\n",
        "    vectorizer = TfidfVectorizer()\n",
        "\n",
        "    # Vectorize the English and Hindi texts\n",
        "    x_train = vectorizer.fit_transform(english_texts).toarray()  # Convert English text to TF-IDF feature vectors\n",
        "    y_train = vectorizer.fit_transform(hindi_texts).toarray()  # Convert Hindi text to TF-IDF feature vectors\n",
        "\n",
        "    return x_train, y_train\n",
        "\n",
        "# Function to train the Linear Regression model\n",
        "def train_linear_regression(x_train, y_train):\n",
        "    reg = LinearRegression()\n",
        "    reg.fit(x_train, y_train)\n",
        "    return reg\n",
        "\n",
        "# Main function to execute the code\n",
        "def main():\n",
        "    # Load the data from 'Book1.xlsx'\n",
        "    file_path = 'Book1.xlsx'\n",
        "    english_texts, hindi_texts = load_data(file_path)\n",
        "\n",
        "    # Convert text to numerical features using TF-IDF\n",
        "    x_train, y_train = vectorize_text(english_texts, hindi_texts)\n",
        "\n",
        "    # Train the model\n",
        "    reg = train_linear_regression(x_train, y_train)\n",
        "\n",
        "    # Print that the model has been trained\n",
        "    print(\"Linear Regression model has been trained\")\n",
        "\n",
        "# Call the main function\n",
        "if __name__ == \"__main__\":\n",
        "    main()\n"
      ],
      "metadata": {
        "colab": {
          "base_uri": "https://localhost:8080/"
        },
        "id": "2XmichQ0pXs3",
        "outputId": "359861cd-a95c-4442-d3a3-54ef784cc865"
      },
      "execution_count": 12,
      "outputs": [
        {
          "output_type": "stream",
          "name": "stdout",
          "text": [
            "Linear Regression model has been trained\n"
          ]
        }
      ]
    }
  ]
}