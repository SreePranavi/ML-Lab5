{
  "nbformat": 4,
  "nbformat_minor": 0,
  "metadata": {
    "colab": {
      "provenance": []
    },
    "kernelspec": {
      "name": "python3",
      "display_name": "Python 3"
    },
    "language_info": {
      "name": "python"
    }
  },
  "cells": [
    {
      "cell_type": "code",
      "execution_count": 1,
      "metadata": {
        "colab": {
          "base_uri": "https://localhost:8080/"
        },
        "id": "UewD0WLJIy-0",
        "outputId": "4afbc1e8-1cc1-46ae-a559-61e226fda4fb"
      },
      "outputs": [
        {
          "output_type": "stream",
          "name": "stdout",
          "text": [
            "\n",
            "K-means Clustering Metrics:\n",
            "Silhouette Score: 0.006594347664685507\n",
            "Calinski-Harabasz Score: 24.405015805544664\n",
            "Davies-Bouldin Score: 9.267423933444435\n"
          ]
        }
      ],
      "source": [
        "import pandas as pd\n",
        "from sklearn.feature_extraction.text import TfidfVectorizer\n",
        "from sklearn.cluster import KMeans\n",
        "from sklearn.metrics import silhouette_score, calinski_harabasz_score, davies_bouldin_score\n",
        "\n",
        "# Function to load the data from Excel\n",
        "def load_data(file_path):\n",
        "    df = pd.read_excel(file_path)\n",
        "    english_texts = df['ENGLISH'].astype(str).values  # Convert all values to strings\n",
        "    return english_texts\n",
        "\n",
        "# Function to convert text data to numerical features using TF-IDF\n",
        "def vectorize_text(texts):\n",
        "    vectorizer = TfidfVectorizer()\n",
        "    x = vectorizer.fit_transform(texts).toarray()  # Convert text to TF-IDF feature vectors\n",
        "    return x\n",
        "\n",
        "# Function to perform K-means clustering\n",
        "def perform_kmeans_clustering(data, n_clusters=2):\n",
        "    kmeans = KMeans(n_clusters=n_clusters, random_state=42, n_init='auto')\n",
        "    kmeans.fit(data)\n",
        "    return kmeans.labels_, kmeans.cluster_centers_\n",
        "\n",
        "# Main function to execute the code\n",
        "def main():\n",
        "    # Load the data from 'Book1.xlsx'\n",
        "    file_path = 'Book1.xlsx'\n",
        "    english_texts = load_data(file_path)\n",
        "\n",
        "    # Convert text to numerical features using TF-IDF\n",
        "    x = vectorize_text(english_texts)\n",
        "\n",
        "    # Perform K-means clustering\n",
        "    kmeans_labels, kmeans_centers = perform_kmeans_clustering(x, n_clusters=2)\n",
        "\n",
        "    # Calculate clustering metrics\n",
        "    silhouette_avg = silhouette_score(x, kmeans_labels)\n",
        "    calinski_harabasz = calinski_harabasz_score(x, kmeans_labels)\n",
        "    davies_bouldin = davies_bouldin_score(x, kmeans_labels)\n",
        "\n",
        "    # Print clustering metrics\n",
        "    print(\"\\nK-means Clustering Metrics:\")\n",
        "    print(f\"Silhouette Score: {silhouette_avg}\")\n",
        "    print(f\"Calinski-Harabasz Score: {calinski_harabasz}\")\n",
        "    print(f\"Davies-Bouldin Score: {davies_bouldin}\")\n",
        "\n",
        "# Call the main function\n",
        "if __name__ == \"__main__\":\n",
        "    main()\n"
      ]
    }
  ]
}