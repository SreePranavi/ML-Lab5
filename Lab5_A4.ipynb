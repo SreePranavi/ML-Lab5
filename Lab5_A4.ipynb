{
  "nbformat": 4,
  "nbformat_minor": 0,
  "metadata": {
    "colab": {
      "provenance": []
    },
    "kernelspec": {
      "name": "python3",
      "display_name": "Python 3"
    },
    "language_info": {
      "name": "python"
    }
  },
  "cells": [
    {
      "cell_type": "code",
      "execution_count": 2,
      "metadata": {
        "colab": {
          "base_uri": "https://localhost:8080/"
        },
        "id": "wXHJrAC1-1V-",
        "outputId": "75af127a-df8b-402e-80ee-75768caaf975"
      },
      "outputs": [
        {
          "output_type": "stream",
          "name": "stdout",
          "text": [
            "\n",
            "K-means Clustering Results:\n",
            "Cluster Labels: [1 1 1 ... 1 1 1]\n",
            "Cluster Centers:\n",
            " [[1.40946282e-18 1.62630326e-18 8.62450428e-04 ... 1.44198889e-17\n",
            "  2.38524478e-18 2.52077005e-18]\n",
            " [3.79412550e-04 1.69384551e-04 5.48566003e-04 ... 1.20136209e-03\n",
            "  4.50062213e-04 2.83569288e-04]]\n"
          ]
        }
      ],
      "source": [
        "import pandas as pd\n",
        "from sklearn.feature_extraction.text import TfidfVectorizer\n",
        "from sklearn.cluster import KMeans\n",
        "\n",
        "# Function to load the data from Excel\n",
        "def load_data(file_path):\n",
        "    df = pd.read_excel(file_path)\n",
        "\n",
        "    # Extract the 'ENGLISH' column\n",
        "    english_texts = df['ENGLISH'].astype(str).values  # Convert all values to strings\n",
        "    return english_texts\n",
        "\n",
        "# Function to convert text data to numerical features using TF-IDF\n",
        "def vectorize_text(texts):\n",
        "    vectorizer = TfidfVectorizer()\n",
        "    x = vectorizer.fit_transform(texts).toarray()  # Convert text to TF-IDF feature vectors\n",
        "    return x\n",
        "\n",
        "# Function to perform K-means clustering\n",
        "def perform_kmeans_clustering(data, n_clusters=2):\n",
        "    kmeans = KMeans(n_clusters=n_clusters, random_state=0, n_init='auto')\n",
        "    kmeans.fit(data)\n",
        "    return kmeans.labels_, kmeans.cluster_centers_\n",
        "\n",
        "# Main function to execute the code\n",
        "def main():\n",
        "    # Load the data from 'Book1.xlsx'\n",
        "    file_path = 'Book1.xlsx'\n",
        "    english_texts = load_data(file_path)\n",
        "\n",
        "    # Convert text to numerical features using TF-IDF\n",
        "    x = vectorize_text(english_texts)\n",
        "\n",
        "    # Perform K-means clustering\n",
        "    kmeans_labels, kmeans_centers = perform_kmeans_clustering(x, n_clusters=2)\n",
        "\n",
        "    # Print clustering results\n",
        "    print(\"\\nK-means Clustering Results:\")\n",
        "    print(\"Cluster Labels:\", kmeans_labels)\n",
        "    print(\"Cluster Centers:\\n\", kmeans_centers)\n",
        "\n",
        "# Call the main function\n",
        "if __name__ == \"__main__\":\n",
        "    main()\n"
      ]
    }
  ]
}